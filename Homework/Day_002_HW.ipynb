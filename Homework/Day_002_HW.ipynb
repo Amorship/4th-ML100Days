{
 "cells": [
  {
   "cell_type": "markdown",
   "metadata": {},
   "source": [
    "## [作業目標]\n",
    "了解機器學習適合應用的領域與範疇。"
   ]
  },
  {
   "cell_type": "markdown",
   "metadata": {},
   "source": [
    "## [作業重點]\n",
    "透過瞭解機器學習的運作方式，找出非常適用機器學習應用的領域及其原因"
   ]
  },
  {
   "cell_type": "markdown",
   "metadata": {},
   "source": [
    "## 作業\n",
    "請找出一個你認為機器學習可以發光發熱的領域並闡述原因? "
   ]
  },
  {
   "cell_type": "markdown",
   "metadata": {},
   "source": [
    "醫學界, 商業, 電子都是有潛力發展機器學習的領域，近年來已經有不少這些領域的研究來結合機器學習。  \n",
    "   \n",
    "EX :  \n",
    "醫學界可以使用影像辨識辨識是否為肺炎, 最近有不少針對醫療影像的部分來結合機器學習，藉此增加診斷正確率。病例影像的取得難易度並不算太難，數量通常也足夠訓練機器。\n",
    "    \n",
    "而商業可以使用推薦系統去推薦不同族群的客戶購買商品, 提高公司營收, 使用協同過濾找出顧客與顧客、物品與物品之間的關係, 從而去找出不同族群客戶各自喜好些什麼產品。"
   ]
  },
  {
   "cell_type": "code",
   "execution_count": null,
   "metadata": {},
   "outputs": [],
   "source": []
  }
 ],
 "metadata": {
  "kernelspec": {
   "display_name": "Python 3",
   "language": "python",
   "name": "python3"
  },
  "language_info": {
   "codemirror_mode": {
    "name": "ipython",
    "version": 3
   },
   "file_extension": ".py",
   "mimetype": "text/x-python",
   "name": "python",
   "nbconvert_exporter": "python",
   "pygments_lexer": "ipython3",
   "version": "3.7.3"
  }
 },
 "nbformat": 4,
 "nbformat_minor": 2
}
